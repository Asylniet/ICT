{
 "cells": [
  {
   "cell_type": "code",
   "execution_count": 5,
   "id": "ffdf9543",
   "metadata": {},
   "outputs": [
    {
     "ename": "IndentationError",
     "evalue": "unexpected indent (1831844629.py, line 33)",
     "output_type": "error",
     "traceback": [
      "\u001b[0;36m  Input \u001b[0;32mIn [5]\u001b[0;36m\u001b[0m\n\u001b[0;31m    features = [-8, -1, -6, -8, -1, -9, -1, -7, -4, 3, -8, 2, -8, -5, -2, 4, 1, 3, -3, -7]\u001b[0m\n\u001b[0m    ^\u001b[0m\n\u001b[0;31mIndentationError\u001b[0m\u001b[0;31m:\u001b[0m unexpected indent\n"
     ]
    }
   ],
   "source": [
    "'''\n",
    "-------------------------ENDTERM EXAM-----------------\n",
    "DO NOT DELETE THE FOLLOWING CODE\n",
    "'''\n",
    "import sys\n",
    "try:\n",
    "    input1 = sys.argv[1]\n",
    "except:\n",
    "    pass\n",
    "'''\n",
    "In the following file, do not delete anything (comments, code, ...). Just add you code in every part (one per exercise).\n",
    "Use my variable for input (if there is any), use my printing for output (if there is any).\n",
    "You can upload your code to codepost.io to check the tests. A sucess in one test doesn't always mean than your exercise is correct,\n",
    "a fail doesn't always mean that your exercise is wrong. I will check all codes.\n",
    "At the end of exam, you should upload the last version of your code to codepost.io or to the online folder on Teams.\n",
    "The only authorized packages are:\n",
    "- pandas\n",
    "- pyarrow\n",
    "- fastparquet\n",
    "- numpy\n",
    "- sklearn\n",
    "- matplotlib\n",
    "- datetime\n",
    "\n",
    "'''\n",
    "if input1 == '4':\n",
    "# ----------------------EXERCISE 4 - Machine Learning II--------------------------------------\n",
    "# Instructions:\n",
    "# You have a list of feature named feature and a list of label named label.\n",
    "# Make a linear regression with the features and the label and display the equation and the accuracy of your model.\n",
    "# Do not use scaling or train/test sets. Choose the best printing instructions.\n",
    "\n",
    "    import sklearn.linear_model as skmod\n",
    "    import numpy as np\n",
    "\n",
    "    features = [-8, -1, -6, -8, -1, -9, -1, -7, -4, 3, -8, 2, -8, -5, -2, 4, 1, 3, -3, -7]\n",
    "    label = [34.0, -5.0, 27.0, 29.0, -5.0, 51.0, -5.0, 28.0, 21.0, -25.0, 59.0, -17.0, 34.0, 24.0, 5.0, -36.0, -19.0, -32.0, 10.0, 40.0]\n",
    "    import sklearn.linear_model as skmod\n",
    "    import numpy as np\n",
    "\n",
    "    arr_x = np.array(features).reshape(-1, 1)\n",
    "    arr_y = np.array(label).reshape(-1, 1)\n",
    "    modelSK = skmod.LinearRegression()\n",
    "    model = modelSK.fit(arr_x, arr_y)\n",
    "\n",
    "\n",
    "    w1 = model.coef_[0][0]\n",
    "    b = model.intercept_[0]\n",
    "    R2 = model.score(arr_x, arr_y)\n",
    "    print(\"The most accurate linear regression has the following equation: y' = {:0.2f}*x + {:0.2f} and its accuracy is: {:0.3f}\".format(w1, b, R2))\n",
    "\n",
    "\n",
    "\n",
    "\n",
    "\n",
    "\n",
    "# Here is several printings, choose the most appropriate one.\t\n",
    "    #print(\"The most accurate linear regression has the following equation: y' = {:0.2f}*x + {:0.2f} and its accuracy is: {:0.3f}\".format(w1, b, R2))\t\n",
    "    #print(\"The most accurate linear regression has the following equation: y' = {:0.2f}*x + {:0.2f} and its accuracy is: {:0.3f}\".format(b, w1, R2))\t\n",
    "    #print(\"The most accurate linear regression has the following equation: y' = {:0.2f}*x + {:0.2f} and its accuracy is: {:0.3f}\".format(R2, w1, b))\n",
    "# ----------------------End of EXERCISE 4 --------------------------------------"
   ]
  },
  {
   "cell_type": "code",
   "execution_count": null,
   "id": "e00ddbb8",
   "metadata": {},
   "outputs": [],
   "source": [
    "elif input1 == '5':\n",
    "# ----------------------EXERCISE 5 - Machine Learning III--------------------------------------\n",
    "# Instructions:\n",
    "# You have two features : feature1 and feature2. You objective is to make a two columns matrix and\n",
    "# to separate them into a train and a test set. The size of train set is 80 % of the original matrix.\n",
    "# Remember to use shuffle = False in the train_test_split function of the scikit-learn package.\n",
    "# At the end print only the test arrays. \n",
    "# You can find the desired matrix in the document Ex_5_x_tests_matrix_V17.txt\n",
    "    import numpy as np\n",
    "    import sklearn.model_selection as sksel\n",
    "\n",
    "\n",
    "    feature1 = [-61, -296, -418, -922, 383, -964, -731, -63, 109, 360, 427, -206, 222, 78, 273, 459, -969, -674, 229, 171, 295, -515, 269, -435, -335, -44, -544, -944, -188, -255]\n",
    "    feature2 = [-10, -3, -4, 2, -3, -3, -7, -2, 3, 0, -7, 2, -5, -8, -1, 0, 1, 0, -1, -1, 3, 4, 2, 4, -2, -1, -6, -2, -7, -4]\n",
    "    feature1 = np.array(feature1).reshape(-1, 1)\n",
    "    feature2 = np.array(feature2).reshape(-1, 1)\n",
    "\n",
    "    x = np.hstack([feature1, feature2])\n",
    "    x_train, x_test = sksel.train_test_split(x, train_size = 0.8, shuffle = False)\n",
    "\n",
    "\n",
    "\n",
    "    # Here is the print instructions to print test arrays.\n",
    "    print(np.float64(x_test))\n",
    "\n",
    "# ----------------------End of EXERCISE 5 --------------------------------------"
   ]
  }
 ],
 "metadata": {
  "kernelspec": {
   "display_name": "Python 3.10.8 64-bit",
   "language": "python",
   "name": "python3"
  },
  "language_info": {
   "codemirror_mode": {
    "name": "ipython",
    "version": 3
   },
   "file_extension": ".py",
   "mimetype": "text/x-python",
   "name": "python",
   "nbconvert_exporter": "python",
   "pygments_lexer": "ipython3",
   "version": "3.10.8"
  },
  "vscode": {
   "interpreter": {
    "hash": "b0fa6594d8f4cbf19f97940f81e996739fb7646882a419484c72d19e05852a7e"
   }
  }
 },
 "nbformat": 4,
 "nbformat_minor": 5
}
